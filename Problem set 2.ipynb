{
 "cells": [
  {
   "cell_type": "markdown",
   "id": "bec504e8",
   "metadata": {},
   "source": [
    "# PROBLEM SET 2\n"
   ]
  },
  {
   "cell_type": "markdown",
   "id": "586cbbfe",
   "metadata": {},
   "source": [
    "## question1:"
   ]
  },
  {
   "cell_type": "code",
   "execution_count": 1,
   "id": "198614fe",
   "metadata": {},
   "outputs": [],
   "source": [
    "a = 0                       #this a has global scope\n",
    "def b():                    \n",
    " global a                     ## this shows that in the function,all references will be to global a\n",
    " a = c(a)                     ## here the global a value is changes to c(a)\n",
    "def c(a):\n",
    " return a + 2"
   ]
  },
  {
   "cell_type": "code",
   "execution_count": 2,
   "id": "7869f3c8",
   "metadata": {},
   "outputs": [],
   "source": [
    "b()                         ## when i call this function, it will return (0+2) as global a=0 at this time"
   ]
  },
  {
   "cell_type": "code",
   "execution_count": 3,
   "id": "7cdef0f0",
   "metadata": {},
   "outputs": [],
   "source": [
    "b()                         ##calling function again will save value (2+2) as global a now has value 2"
   ]
  },
  {
   "cell_type": "code",
   "execution_count": 4,
   "id": "afbed38d",
   "metadata": {},
   "outputs": [],
   "source": [
    "b()                         ##calling the function again will save(4+2) as global a becomes 6 at this point"
   ]
  },
  {
   "cell_type": "code",
   "execution_count": 5,
   "id": "819acd87",
   "metadata": {},
   "outputs": [
    {
     "data": {
      "text/plain": [
       "6"
      ]
     },
     "execution_count": 5,
     "metadata": {},
     "output_type": "execute_result"
    }
   ],
   "source": [
    "a                           ## thus calling the function each time adds 2 to global a."
   ]
  },
  {
   "cell_type": "markdown",
   "id": "410ac572",
   "metadata": {},
   "source": [
    "##### thus we get the value of a =6 ."
   ]
  },
  {
   "cell_type": "markdown",
   "id": "1d4a5509",
   "metadata": {},
   "source": [
    "## Question 2"
   ]
  },
  {
   "cell_type": "code",
   "execution_count": 6,
   "id": "1440f2be",
   "metadata": {},
   "outputs": [],
   "source": [
    "def fileLength(filename):\n",
    "    try:                                ## using try and except method to get a friendly output\n",
    "        file = open(filename)            ## opening and reading file contents\n",
    "        contents = file.read()\n",
    "        file.close()\n",
    "        print(len(contents))\n",
    "    except:                               ##exception handling\n",
    "        print('File not found')"
   ]
  },
  {
   "cell_type": "code",
   "execution_count": 7,
   "id": "6a3afb42",
   "metadata": {},
   "outputs": [
    {
     "name": "stdout",
     "output_type": "stream",
     "text": [
      "531\n"
     ]
    }
   ],
   "source": [
    "fileLength('locations.txt')"
   ]
  },
  {
   "cell_type": "code",
   "execution_count": 8,
   "id": "c9979b56",
   "metadata": {},
   "outputs": [
    {
     "name": "stdout",
     "output_type": "stream",
     "text": [
      "File not found\n"
     ]
    }
   ],
   "source": [
    "fileLength('ocations.txt')"
   ]
  },
  {
   "cell_type": "markdown",
   "id": "a5a9c62c",
   "metadata": {},
   "source": [
    "## Question 3"
   ]
  },
  {
   "cell_type": "code",
   "execution_count": 25,
   "id": "58d78920",
   "metadata": {},
   "outputs": [],
   "source": [
    "class Marsupial():                          ##developing  a class\n",
    "    def __init__(self):\n",
    "        self.pouch_contents = []\n",
    "        \n",
    "    def put_in_pouch(self, item):\n",
    "        self.pouch_contents.append(item)"
   ]
  },
  {
   "cell_type": "code",
   "execution_count": 26,
   "id": "da8e16b3",
   "metadata": {},
   "outputs": [],
   "source": [
    "m = Marsupial()"
   ]
  },
  {
   "cell_type": "code",
   "execution_count": 27,
   "id": "3b038466",
   "metadata": {},
   "outputs": [],
   "source": [
    "m.put_in_pouch('doll')"
   ]
  },
  {
   "cell_type": "code",
   "execution_count": 28,
   "id": "7e726086",
   "metadata": {},
   "outputs": [],
   "source": [
    "m.put_in_pouch('firetruck')"
   ]
  },
  {
   "cell_type": "code",
   "execution_count": 29,
   "id": "7fb3365e",
   "metadata": {},
   "outputs": [],
   "source": [
    "m.put_in_pouch('kitten')"
   ]
  },
  {
   "cell_type": "code",
   "execution_count": 30,
   "id": "39bfd50d",
   "metadata": {},
   "outputs": [
    {
     "ename": "TypeError",
     "evalue": "'list' object is not callable",
     "output_type": "error",
     "traceback": [
      "\u001b[1;31m---------------------------------------------------------------------------\u001b[0m",
      "\u001b[1;31mTypeError\u001b[0m                                 Traceback (most recent call last)",
      "\u001b[1;32m<ipython-input-30-5ee7158cc1ad>\u001b[0m in \u001b[0;36m<module>\u001b[1;34m\u001b[0m\n\u001b[1;32m----> 1\u001b[1;33m \u001b[0mm\u001b[0m\u001b[1;33m.\u001b[0m\u001b[0mpouch_contents\u001b[0m\u001b[1;33m(\u001b[0m\u001b[1;33m)\u001b[0m\u001b[1;33m\u001b[0m\u001b[1;33m\u001b[0m\u001b[0m\n\u001b[0m",
      "\u001b[1;31mTypeError\u001b[0m: 'list' object is not callable"
     ]
    }
   ],
   "source": [
    "m.pouch_contents()"
   ]
  },
  {
   "cell_type": "code",
   "execution_count": null,
   "id": "fea5b0b1",
   "metadata": {},
   "outputs": [],
   "source": [
    "class Marsupial():                       ##main class\n",
    "    def __init__(self,item):\n",
    "        self.pouch_contents = []\n",
    "        \n",
    "    def put_in_pouch(self, item):\n",
    "        self.pouch_contents.append(item)\n",
    "\n",
    "class Kangaroo(Marsupial):               ## subclass of Marsupial\n",
    "    def __init__(self,item):\n",
    "        Marsupial.__init__(self,xcoord, ycoord)\n",
    "\n",
    "    def jump(self,dx,dy):                 ##adding the jump method\n",
    "        xcoord = dx +xcoord\n",
    "        ycoord=dy + ycoord\n",
    "        \n",
    "    def \n",
    "print( 'I am a kangaroo located at {}',xcoord, ycoord)"
   ]
  },
  {
   "cell_type": "markdown",
   "id": "f34a4979",
   "metadata": {},
   "source": [
    "## Question 4"
   ]
  },
  {
   "cell_type": "code",
   "execution_count": 12,
   "id": "2ec2240f",
   "metadata": {},
   "outputs": [],
   "source": [
    "def collatz(x):                               ##defining collatz function with recursion\n",
    "    print(x)\n",
    "    if x == 1:\n",
    "        return x\n",
    "    if x % 2 == 0:                             ## this way we get a collatz sequence without loop\n",
    "        return collatz(x // 2)\n",
    "    return collatz(3 * x + 1)\n"
   ]
  },
  {
   "cell_type": "code",
   "execution_count": 13,
   "id": "70bc0bf3",
   "metadata": {},
   "outputs": [
    {
     "name": "stdout",
     "output_type": "stream",
     "text": [
      "1\n"
     ]
    },
    {
     "data": {
      "text/plain": [
       "1"
      ]
     },
     "execution_count": 13,
     "metadata": {},
     "output_type": "execute_result"
    }
   ],
   "source": [
    "collatz(1)"
   ]
  },
  {
   "cell_type": "code",
   "execution_count": 14,
   "id": "bb6f5f66",
   "metadata": {},
   "outputs": [
    {
     "name": "stdout",
     "output_type": "stream",
     "text": [
      "10\n",
      "5\n",
      "16\n",
      "8\n",
      "4\n",
      "2\n",
      "1\n"
     ]
    },
    {
     "data": {
      "text/plain": [
       "1"
      ]
     },
     "execution_count": 14,
     "metadata": {},
     "output_type": "execute_result"
    }
   ],
   "source": [
    "collatz(10)"
   ]
  },
  {
   "cell_type": "markdown",
   "id": "733c14e2",
   "metadata": {},
   "source": [
    "## Question 5"
   ]
  },
  {
   "cell_type": "code",
   "execution_count": 15,
   "id": "4ecce6df",
   "metadata": {},
   "outputs": [],
   "source": [
    "def binary(n):                           ## defining binary function\n",
    "    if n<0:\n",
    "        return 'Must be a positive number'\n",
    "    elif n==0:\n",
    "        return'0'\n",
    "    else:\n",
    "        return binary(n//2)+ str(n%2)                     ##decimal to binary"
   ]
  },
  {
   "cell_type": "code",
   "execution_count": 16,
   "id": "aa646681",
   "metadata": {},
   "outputs": [
    {
     "data": {
      "text/plain": [
       "'0'"
      ]
     },
     "execution_count": 16,
     "metadata": {},
     "output_type": "execute_result"
    }
   ],
   "source": [
    "binary(0)"
   ]
  },
  {
   "cell_type": "code",
   "execution_count": 17,
   "id": "33674069",
   "metadata": {},
   "outputs": [
    {
     "data": {
      "text/plain": [
       "'01'"
      ]
     },
     "execution_count": 17,
     "metadata": {},
     "output_type": "execute_result"
    }
   ],
   "source": [
    "binary(1)"
   ]
  },
  {
   "cell_type": "code",
   "execution_count": 18,
   "id": "427aee97",
   "metadata": {},
   "outputs": [
    {
     "data": {
      "text/plain": [
       "'011'"
      ]
     },
     "execution_count": 18,
     "metadata": {},
     "output_type": "execute_result"
    }
   ],
   "source": [
    "binary(3)"
   ]
  },
  {
   "cell_type": "code",
   "execution_count": 19,
   "id": "20e1c09e",
   "metadata": {},
   "outputs": [
    {
     "data": {
      "text/plain": [
       "'01001'"
      ]
     },
     "execution_count": 19,
     "metadata": {},
     "output_type": "execute_result"
    }
   ],
   "source": [
    "binary(9)"
   ]
  },
  {
   "cell_type": "markdown",
   "id": "e1d52e62",
   "metadata": {},
   "source": [
    "## Question 6"
   ]
  },
  {
   "cell_type": "code",
   "execution_count": null,
   "id": "25915413",
   "metadata": {},
   "outputs": [],
   "source": [
    "from html.parser import HTMLPARSER \n",
    "class HeadingParser(HTMLParser):\n",
    "    def handle_starttag(self, tag, attrs):\n",
    "        global getHeadingParser\n",
    "        \n",
    "    def handle_endtag(self, tag):\n",
    "    def handle_data(self, data):\n",
    "parser = HeadingParser()\n",
    "parser.feed('<h1> </h1>,<h2> </h2>, <h3> </h3> <h4></h4>'"
   ]
  },
  {
   "cell_type": "code",
   "execution_count": null,
   "id": "e907d9ba",
   "metadata": {},
   "outputs": [],
   "source": [
    "infile = open('w3c.html')"
   ]
  },
  {
   "cell_type": "code",
   "execution_count": null,
   "id": "2af53031",
   "metadata": {},
   "outputs": [],
   "source": [
    "content = infile.read()"
   ]
  },
  {
   "cell_type": "code",
   "execution_count": null,
   "id": "19a780f0",
   "metadata": {},
   "outputs": [],
   "source": [
    "infile.close()"
   ]
  },
  {
   "cell_type": "code",
   "execution_count": null,
   "id": "ec328a56",
   "metadata": {},
   "outputs": [],
   "source": [
    "hp = HeadingParser()"
   ]
  },
  {
   "cell_type": "code",
   "execution_count": null,
   "id": "ee930ed3",
   "metadata": {},
   "outputs": [],
   "source": [
    "hp.feed(content)"
   ]
  },
  {
   "cell_type": "markdown",
   "id": "8a95a91b",
   "metadata": {},
   "source": [
    "## Question 7"
   ]
  },
  {
   "cell_type": "code",
   "execution_count": null,
   "id": "597a1d0d",
   "metadata": {},
   "outputs": [],
   "source": [
    "from urllib.parse import urljoin\n",
    "from html.parse import HTMLPaerser\n",
    "class collector(HTMLParser):\n",
    "    def webdir(self, url):\n",
    "        HTMLParser.webdir(self)\n",
    "        self.url = url\n",
    "        self.links =[]\n",
    "        \n",
    "    def   handle_starttag(self, tag, attrs):\n",
    "        if tag =='a'\n",
    "        for attr[0] =='href':\n",
    "            absolute = urljoin(self.url,attr[1])\n",
    "            if absolute[:4] == 'http':\n",
    "                self.links.append(absolute)\n",
    "    def getLinks(self)\n",
    "    return self.Links"
   ]
  },
  {
   "cell_type": "markdown",
   "id": "a982c60e",
   "metadata": {},
   "source": [
    "## Question 8"
   ]
  },
  {
   "cell_type": "code",
   "execution_count": null,
   "id": "e7514e6c",
   "metadata": {},
   "outputs": [],
   "source": [
    "import sqlite3       ##importing package\n",
    "con = sqlite3.connect('imp.db')     ##connection, to create database imp.db\n",
    "cur = con.cursor() ## to create database table data.db\n",
    "cursor.execute('''CREATE TABLE data(city var, country var, season var, temp int, rainfall int)''')\n",
    "\n",
    "(a)cur.execute(\"\"\"SELECT Temperature FROM data\"\"\")\n",
    "(b)\n",
    "(c)cur.execute(\"\"\"SELECT City, Season, temperature, Rainfall FROM data WHERE Country = 'India'\"\"\")\n",
    "(d)cur.execute(\"\"\"SELECT City, Rainfall, Country, Temperature FROM data WHERE Season = 'Fall'\"\"\")\n",
    "(e)cur.execute(\"\"\"SELECT City, Country, Season FROM data WHERE 200<Rainfall<400\"\"\")\n",
    "(f)cur.execute(\"\"\"SELECT City,Country FROM data WHERE Season= Fall AND Temperature>20\"\"\")\n",
    "(g)cur.execute(\"\"\"SELECT Sum(Rainfall) FROM data WHERE City = 'Cairo'\"\"\")"
   ]
  },
  {
   "cell_type": "markdown",
   "id": "8a2f068d",
   "metadata": {},
   "source": [
    "## Question 9"
   ]
  },
  {
   "cell_type": "markdown",
   "id": "daa5a2bd",
   "metadata": {},
   "source": [
    "### 9(a)"
   ]
  },
  {
   "cell_type": "code",
   "execution_count": 20,
   "id": "d3ec1d33",
   "metadata": {},
   "outputs": [
    {
     "name": "stdout",
     "output_type": "stream",
     "text": [
      "['THE', 'QUICK', 'BROWN', 'FOX', 'JUMPS', 'OVER', 'THE', 'LAZY', 'DOG']\n"
     ]
    }
   ],
   "source": [
    "words = ['The', 'quick', 'brown', 'fox', 'jumps', 'over', \n",
    "'the', 'lazy', 'dog']\n",
    "newlist=[x.upper() for x in words]\n",
    "print(newlist)"
   ]
  },
  {
   "cell_type": "markdown",
   "id": "b1b66c54",
   "metadata": {},
   "source": [
    "### 9(b)"
   ]
  },
  {
   "cell_type": "code",
   "execution_count": 21,
   "id": "9caddf5c",
   "metadata": {},
   "outputs": [
    {
     "name": "stdout",
     "output_type": "stream",
     "text": [
      "['the', 'quick', 'brown', 'fox', 'jumps', 'over', 'the', 'lazy', 'dog']\n"
     ]
    }
   ],
   "source": [
    "words = ['The', 'quick', 'brown', 'fox', 'jumps', 'over', \n",
    "'the', 'lazy', 'dog']\n",
    "newlist=[x.lower() for x in words]\n",
    "print(newlist)"
   ]
  },
  {
   "cell_type": "markdown",
   "id": "19e38281",
   "metadata": {},
   "source": [
    "### 9(c)"
   ]
  },
  {
   "cell_type": "code",
   "execution_count": 22,
   "id": "14266c21",
   "metadata": {},
   "outputs": [
    {
     "name": "stdout",
     "output_type": "stream",
     "text": [
      "[3, 5, 5, 3, 5, 4, 3, 4, 3]\n"
     ]
    }
   ],
   "source": [
    "words = ['The', 'quick', 'brown', 'fox', 'jumps', 'over', \n",
    "'the', 'lazy', 'dog']\n",
    "newlist =[len(x) for x in words]\n",
    "print(newlist)"
   ]
  },
  {
   "cell_type": "markdown",
   "id": "c64c6213",
   "metadata": {},
   "source": [
    "### 9(d)"
   ]
  },
  {
   "cell_type": "code",
   "execution_count": 23,
   "id": "6df3f1e4",
   "metadata": {},
   "outputs": [
    {
     "name": "stdout",
     "output_type": "stream",
     "text": [
      "[{3, 'the', 'THE'}, {'quick', 'QUICK', 5}, {5, 'BROWN', 'brown'}, {3, 'FOX', 'fox'}, {'jumps', 5, 'JUMPS'}, {4, 'OVER', 'over'}, {3, 'the', 'THE'}, {4, 'LAZY', 'lazy'}, {3, 'DOG', 'dog'}]\n"
     ]
    }
   ],
   "source": [
    "words=['The', 'quick', 'brown', 'fox', 'jumps', 'over', \n",
    "'the', 'lazy', 'dog']\n",
    "newlist=[{x.upper(),x.lower(),len(x)} for x in words]\n",
    "print(newlist)"
   ]
  },
  {
   "cell_type": "markdown",
   "id": "e83ef81e",
   "metadata": {},
   "source": [
    "### 9(e)"
   ]
  },
  {
   "cell_type": "code",
   "execution_count": 24,
   "id": "a72b28fc",
   "metadata": {},
   "outputs": [
    {
     "name": "stdout",
     "output_type": "stream",
     "text": [
      "['quick', 'brown', 'jumps', 'over', 'lazy']\n"
     ]
    }
   ],
   "source": [
    "words=['The', 'quick', 'brown', 'fox', 'jumps', 'over', \n",
    "'the', 'lazy', 'dog']\n",
    "newlist=[x for x in words if len(x)>=4]\n",
    "print(newlist)"
   ]
  },
  {
   "cell_type": "markdown",
   "id": "4c10eebe",
   "metadata": {},
   "source": [
    "#                                    #                               #                                #                           #"
   ]
  }
 ],
 "metadata": {
  "kernelspec": {
   "display_name": "Python 3",
   "language": "python",
   "name": "python3"
  },
  "language_info": {
   "codemirror_mode": {
    "name": "ipython",
    "version": 3
   },
   "file_extension": ".py",
   "mimetype": "text/x-python",
   "name": "python",
   "nbconvert_exporter": "python",
   "pygments_lexer": "ipython3",
   "version": "3.8.8"
  }
 },
 "nbformat": 4,
 "nbformat_minor": 5
}
